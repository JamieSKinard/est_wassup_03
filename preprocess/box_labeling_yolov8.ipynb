{
 "cells": [
  {
   "cell_type": "markdown",
   "metadata": {},
   "source": [
    "## Grounding DINO 사용 Detection 적용"
   ]
  },
  {
   "cell_type": "markdown",
   "metadata": {},
   "source": [
    "### 이미지 한장으로 실험해보기"
   ]
  },
  {
   "cell_type": "code",
   "execution_count": 1,
   "metadata": {},
   "outputs": [
    {
     "data": {
      "text/plain": [
       "False"
      ]
     },
     "execution_count": 1,
     "metadata": {},
     "output_type": "execute_result"
    }
   ],
   "source": [
    "import torch\n",
    "\n",
    "torch.backends.mps.is_available()"
   ]
  },
  {
   "cell_type": "code",
   "execution_count": 2,
   "metadata": {},
   "outputs": [
    {
     "name": "stdout",
     "output_type": "stream",
     "text": [
      "/home/KDT-admin/work/GroundingDINO\n",
      "/home/KDT-admin/work/GroundingDINO/../GroundingDINO/groundingdino/config/GroundingDINO_SwinT_OGC.py ; exist: True\n"
     ]
    }
   ],
   "source": [
    "import os\n",
    "HOME = os.getcwd()\n",
    "print(HOME)\n",
    "CONFIG_PATH = os.path.join(HOME, \"../GroundingDINO/groundingdino/config/GroundingDINO_SwinT_OGC.py\")\n",
    "print(CONFIG_PATH, \"; exist:\", os.path.isfile(CONFIG_PATH))"
   ]
  },
  {
   "cell_type": "code",
   "execution_count": 3,
   "metadata": {},
   "outputs": [
    {
     "name": "stdout",
     "output_type": "stream",
     "text": [
      "../GroundingDINO/weights/groundingdino_swint_ogc.pth ; exist: True\n"
     ]
    }
   ],
   "source": [
    "import wget\n",
    "import os\n",
    "\n",
    "WEIGHTS_PATH = os.path.join('../GroundingDINO/weights')\n",
    "# 작동이 잘안됨.. ㅜㅜ\n",
    "\n",
    "WEIGHTS_NAME = \"groundingdino_swint_ogc.pth\"\n",
    "WEIGHTS_PATH = os.path.join(\"../GroundingDINO/weights\", WEIGHTS_NAME)\n",
    "print(WEIGHTS_PATH, \"; exist:\", os.path.isfile(WEIGHTS_PATH))"
   ]
  },
  {
   "cell_type": "code",
   "execution_count": 4,
   "metadata": {},
   "outputs": [],
   "source": [
    "os.chdir('../GroundingDINO')"
   ]
  },
  {
   "cell_type": "code",
   "execution_count": 5,
   "metadata": {},
   "outputs": [
    {
     "data": {
      "text/plain": [
       "'/home/KDT-admin/work/GroundingDINO'"
      ]
     },
     "execution_count": 5,
     "metadata": {},
     "output_type": "execute_result"
    }
   ],
   "source": [
    "os.getcwd()"
   ]
  },
  {
   "cell_type": "markdown",
   "metadata": {},
   "source": [
    "#### val set"
   ]
  },
  {
   "cell_type": "code",
   "execution_count": 6,
   "metadata": {},
   "outputs": [
    {
     "data": {
      "text/plain": [
       "'/home/KDT-admin/work/GroundingDINO'"
      ]
     },
     "execution_count": 6,
     "metadata": {},
     "output_type": "execute_result"
    }
   ],
   "source": [
    "os.getcwd()"
   ]
  },
  {
   "cell_type": "code",
   "execution_count": 7,
   "metadata": {},
   "outputs": [],
   "source": [
    "os.chdir('../')"
   ]
  },
  {
   "cell_type": "code",
   "execution_count": 33,
   "metadata": {},
   "outputs": [
    {
     "data": {
      "text/plain": [
       "'/home/KDT-admin/work'"
      ]
     },
     "execution_count": 33,
     "metadata": {},
     "output_type": "execute_result"
    }
   ],
   "source": [
    "os.getcwd()"
   ]
  },
  {
   "cell_type": "code",
   "execution_count": 9,
   "metadata": {},
   "outputs": [],
   "source": [
    "import os\n",
    "import unicodedata\n",
    "\n",
    "# os.chdir('..')\n",
    "\n",
    "# 폴더 내의 모든 파일의 이름을 담을 리스트 생성\n",
    "val_file_names = []\n",
    "\n",
    "# 폴더 경로 설정\n",
    "folder_path = \"../data/yolo_all/val/image\"\n",
    "\n",
    "# 폴더 내의 모든 파일의 이름을 리스트에 추가\n",
    "for filename in os.listdir(folder_path):\n",
    "    # print(filename)\n",
    "    # 파일의 전체 경로 생성\n",
    "    file_path = os.path.join(folder_path, filename)\n",
    "    # 파일인지 확인 후 리스트에 추가\n",
    "    if os.path.isfile(file_path):\n",
    "        filename = unicodedata.normalize('NFC', filename) \n",
    "        val_file_names.append(filename)\n",
    "    # val_file_names.append(filename)"
   ]
  },
  {
   "cell_type": "markdown",
   "metadata": {},
   "source": [
    "#### test set"
   ]
  },
  {
   "cell_type": "code",
   "execution_count": 10,
   "metadata": {},
   "outputs": [],
   "source": [
    "# 폴더 내의 모든 파일의 이름을 담을 리스트 생성\n",
    "test_file_names = []\n",
    "\n",
    "# 폴더 경로 설정\n",
    "folder_path_test = \"../data/yolo_all/test/image\"\n",
    "\n",
    "# 폴더 내의 모든 파일의 이름을 리스트에 추가\n",
    "for filename in os.listdir(folder_path_test):\n",
    "    # print(filename)\n",
    "    # 파일의 전체 경로 생성\n",
    "    file_path = os.path.join(folder_path_test, filename)\n",
    "    # 파일인지 확인 후 리스트에 추가\n",
    "    if os.path.isfile(file_path):\n",
    "        filename = unicodedata.normalize('NFC', filename)\n",
    "        test_file_names.append(filename)\n",
    "    # val_file_names.append(filename)"
   ]
  },
  {
   "cell_type": "code",
   "execution_count": 11,
   "metadata": {},
   "outputs": [],
   "source": [
    "import unicodedata"
   ]
  },
  {
   "cell_type": "markdown",
   "metadata": {},
   "source": [
    "#### train set"
   ]
  },
  {
   "cell_type": "code",
   "execution_count": 12,
   "metadata": {},
   "outputs": [],
   "source": [
    "# 폴더 내의 모든 파일의 이름을 담을 리스트 생성\n",
    "train_file_names = []\n",
    "\n",
    "# 폴더 경로 설정\n",
    "folder_path_train = \"../data/yolo_all/train/image\"\n",
    "\n",
    "# 폴더 내의 모든 파일의 이름을 리스트에 추가\n",
    "for filename in os.listdir(folder_path_train):\n",
    "    # print(filename)\n",
    "    # 파일의 전체 경로 생성\n",
    "    file_path = os.path.join(folder_path_train, filename)\n",
    "    # 파일인지 확인 후 리스트에 추가\n",
    "    if os.path.isfile(file_path):\n",
    "        filename = unicodedata.normalize('NFC', filename) \n",
    "        train_file_names.append(filename)\n",
    "    # val_file_names.append(filename)"
   ]
  },
  {
   "cell_type": "code",
   "execution_count": 13,
   "metadata": {},
   "outputs": [
    {
     "data": {
      "text/plain": [
       "21000"
      ]
     },
     "execution_count": 13,
     "metadata": {},
     "output_type": "execute_result"
    }
   ],
   "source": [
    "len(train_file_names)"
   ]
  },
  {
   "cell_type": "markdown",
   "metadata": {},
   "source": [
    "### yolo용 txt 다시 생성(yolov8로 디텍션까지 할 경우에만 사용됨)"
   ]
  },
  {
   "cell_type": "markdown",
   "metadata": {},
   "source": [
    "#### 본격 txt작업 시작"
   ]
  },
  {
   "cell_type": "code",
   "execution_count": 66,
   "metadata": {},
   "outputs": [],
   "source": [
    "from collections import Counter\n",
    "import random\n",
    "import json\n",
    "\n",
    "# faceExp를 클래스로 매핑하는 딕셔너리\n",
    "emotion_mapping = {\n",
    "    \"분노\": 0,\n",
    "    \"불안\": 1,\n",
    "    \"기쁨\": 2,\n",
    "    \"중립\": 3,\n",
    "    \"당황\": 4,\n",
    "    \"슬픔\": 5,\n",
    "    \"상처\": 6\n",
    "}\n",
    "annot_mapping = {0:\"annot_A\",\n",
    "                 1:\"annot_B\",\n",
    "                 2:\"annot_C\"}\n",
    "\n",
    "# JSON 파일 불러오기\n",
    "def load_json_file(file_path):\n",
    "    with open(file_path, \"r\", encoding='utf-8') as f:\n",
    "        data = json.load(f)\n",
    "    return data\n",
    "\n",
    "# x_center = ((box[\"maxX\"] + box[\"minX\"]) / 2) / img_width\n",
    "# faceExp를 클래스로 매핑하여 YOLO 형식의 레이블로 변환하는 함수\n",
    "def convert_to_yolo_format_with_class(box, img_width, img_height, emotion):\n",
    "    x_center = (box[\"maxX\"] + box[\"minX\"]) / (2 * img_width) # 0~1 정규화\n",
    "    y_center = (box[\"maxY\"] + box[\"minY\"]) / (2 * img_height)\n",
    "    width = (box[\"maxX\"] - box[\"minX\"]) / img_width # 0~1 정규화\n",
    "    height = (box[\"maxY\"] - box[\"minY\"]) / img_height # 0~1 정규화\n",
    "    emotion_class = emotion_mapping[emotion]\n",
    "    return emotion_class, x_center, y_center, width, height\n",
    "\n",
    "# JSON 데이터에서 YOLO 형식의 레이블로 변환하여 파일에 저장하는 함수\n",
    "def save_to_txt_with_class(json_data, output_dir, img_width, img_height, filename):\n",
    "    all_emotion = [json_data[key][\"faceExp\"] for key in [\"annot_A\", \"annot_B\", \"annot_C\"]]\n",
    "\n",
    "    word_counts = Counter(all_emotion)\n",
    "    # print(word_counts)\n",
    "    if [word_counts for word_counts in word_counts.values()] == [1, 1, 1]:\n",
    "        if [word_emotion in json_data['filename'] for word_emotion in word_counts.keys()]:\n",
    "            # print(json_file[0]['filename'])\n",
    "            result_list = [word_emotion in json_data['filename'] for word_emotion in word_counts.keys()]\n",
    "            true_indices = [index for index, value in enumerate(result_list) if value]\n",
    "            if true_indices == []:\n",
    "                most_emotion_word = random.choice(all_emotion)\n",
    "            else:\n",
    "                most_emotion_word = list(word_counts.keys())[true_indices[0]]\n",
    "    else:\n",
    "        most_emotion_word = word_counts.most_common(1)[0][0]\n",
    "    # print(most_emotion_word)\n",
    "\n",
    "    annot_index = [i for i, word in enumerate(all_emotion) if word == most_emotion_word]\n",
    "    # print(annot_index)\n",
    "    if len(annot_index) != 1:\n",
    "        random.shuffle(annot_index)\n",
    "        final_emotion_annot = random.choice(annot_index)\n",
    "\n",
    "    else:\n",
    "        final_emotion_annot = annot_index[0]\n",
    "\n",
    "    key = annot_mapping[final_emotion_annot]\n",
    "    annots = [(json_data[key][\"boxes\"], json_data[key][\"faceExp\"])]\n",
    "    yolo_labels = [convert_to_yolo_format_with_class(box, img_width, img_height, emotion) for box, emotion in annots]\n",
    "    filename_without_extension = os.path.splitext(filename)[0]\n",
    "    output_file = output_dir + \"/\" + filename_without_extension + \".txt\"\n",
    "\n",
    "    with open(output_file, \"w\") as f:\n",
    "        for label in yolo_labels:\n",
    "            f.write(\" \".join(str(coord) for coord in label) + \"\\n\")\n",
    "\n",
    "# 주어진 JSON 데이터 리스트를 처리하여 YOLO 형식의 레이블 파일로 저장\n",
    "def process_json_data_with_class(json_list, output_dir, path, file_names):\n",
    "    for json_data in json_list:\n",
    "        filename = json_data[\"filename\"]\n",
    "        image_path = os.path.join(path, filename)\n",
    "        if not os.path.exists(image_path):\n",
    "            continue  # 이미지 파일이 존재하지 않으면 다음 반복으로 넘어감\n",
    "        if unicodedata.normalize('NFC', filename) in file_names:\n",
    "            img_width, img_height = get_image_size(image_path)\n",
    "            save_to_txt_with_class(json_data, output_dir, img_width, img_height, filename)\n",
    "\n",
    "def get_image_size(image_path):\n",
    "    with Image.open(image_path) as img:\n",
    "        return img.size  # (width, height)"
   ]
  },
  {
   "cell_type": "code",
   "execution_count": 63,
   "metadata": {},
   "outputs": [
    {
     "data": {
      "text/plain": [
       "'/home/KDT-admin/work'"
      ]
     },
     "execution_count": 63,
     "metadata": {},
     "output_type": "execute_result"
    }
   ],
   "source": [
    "os.getcwd()"
   ]
  },
  {
   "cell_type": "code",
   "execution_count": 68,
   "metadata": {},
   "outputs": [],
   "source": [
    "# JSON 데이터 처리(train_set)\n",
    "output_directory = '../data/yolo_all/val/labels'\n",
    "val_path = '../data/yolo_all/val/image'\n",
    "\n",
    "for emotion in emotion_mapping.keys():\n",
    "    json_list = load_json_file(f\"../data/yolo_all/val/label/img_emotion_test_data({emotion}).json\")\n",
    "    process_json_data_with_class(json_list, output_directory, val_path, val_file_names)"
   ]
  },
  {
   "cell_type": "code",
   "execution_count": 32,
   "metadata": {},
   "outputs": [
    {
     "data": {
      "text/plain": [
       "'/home/KDT-admin/work'"
      ]
     },
     "execution_count": 32,
     "metadata": {},
     "output_type": "execute_result"
    }
   ],
   "source": [
    "os.getcwd()"
   ]
  },
  {
   "cell_type": "code",
   "execution_count": 34,
   "metadata": {},
   "outputs": [
    {
     "ename": "FileNotFoundError",
     "evalue": "[Errno 2] No such file or directory: '../data/yolo_all/test/label/img_emotion_test_data(분노).json'",
     "output_type": "error",
     "traceback": [
      "\u001b[0;31m---------------------------------------------------------------------------\u001b[0m",
      "\u001b[0;31mFileNotFoundError\u001b[0m                         Traceback (most recent call last)",
      "Cell \u001b[0;32mIn[34], line 6\u001b[0m\n\u001b[1;32m      3\u001b[0m test_path \u001b[38;5;241m=\u001b[39m \u001b[38;5;124m'\u001b[39m\u001b[38;5;124m../data/yolo_all/test/image/\u001b[39m\u001b[38;5;124m'\u001b[39m\n\u001b[1;32m      5\u001b[0m \u001b[38;5;28;01mfor\u001b[39;00m emotion \u001b[38;5;129;01min\u001b[39;00m emotion_mapping\u001b[38;5;241m.\u001b[39mkeys():\n\u001b[0;32m----> 6\u001b[0m     json_list \u001b[38;5;241m=\u001b[39m \u001b[43mload_json_file\u001b[49m\u001b[43m(\u001b[49m\u001b[38;5;124;43mf\u001b[39;49m\u001b[38;5;124;43m\"\u001b[39;49m\u001b[38;5;124;43m../data/yolo_all/test/label/img_emotion_test_data(분노).json\u001b[39;49m\u001b[38;5;124;43m\"\u001b[39;49m\u001b[43m)\u001b[49m\n\u001b[1;32m      7\u001b[0m     process_json_data_with_class(json_list, output_directory, test_path, test_file_names)\n",
      "Cell \u001b[0;32mIn[15], line 21\u001b[0m, in \u001b[0;36mload_json_file\u001b[0;34m(file_path)\u001b[0m\n\u001b[1;32m     20\u001b[0m \u001b[38;5;28;01mdef\u001b[39;00m \u001b[38;5;21mload_json_file\u001b[39m(file_path):\n\u001b[0;32m---> 21\u001b[0m     \u001b[38;5;28;01mwith\u001b[39;00m \u001b[38;5;28;43mopen\u001b[39;49m\u001b[43m(\u001b[49m\u001b[43mfile_path\u001b[49m\u001b[43m,\u001b[49m\u001b[43m \u001b[49m\u001b[38;5;124;43m\"\u001b[39;49m\u001b[38;5;124;43mr\u001b[39;49m\u001b[38;5;124;43m\"\u001b[39;49m\u001b[43m,\u001b[49m\u001b[43m \u001b[49m\u001b[43mencoding\u001b[49m\u001b[38;5;241;43m=\u001b[39;49m\u001b[38;5;124;43m'\u001b[39;49m\u001b[38;5;124;43mutf-8\u001b[39;49m\u001b[38;5;124;43m'\u001b[39;49m\u001b[43m)\u001b[49m \u001b[38;5;28;01mas\u001b[39;00m f:\n\u001b[1;32m     22\u001b[0m         data \u001b[38;5;241m=\u001b[39m json\u001b[38;5;241m.\u001b[39mload(f)\n\u001b[1;32m     23\u001b[0m     \u001b[38;5;28;01mreturn\u001b[39;00m data\n",
      "File \u001b[0;32m~/.conda/envs/test/lib/python3.10/site-packages/IPython/core/interactiveshell.py:310\u001b[0m, in \u001b[0;36m_modified_open\u001b[0;34m(file, *args, **kwargs)\u001b[0m\n\u001b[1;32m    303\u001b[0m \u001b[38;5;28;01mif\u001b[39;00m file \u001b[38;5;129;01min\u001b[39;00m {\u001b[38;5;241m0\u001b[39m, \u001b[38;5;241m1\u001b[39m, \u001b[38;5;241m2\u001b[39m}:\n\u001b[1;32m    304\u001b[0m     \u001b[38;5;28;01mraise\u001b[39;00m \u001b[38;5;167;01mValueError\u001b[39;00m(\n\u001b[1;32m    305\u001b[0m         \u001b[38;5;124mf\u001b[39m\u001b[38;5;124m\"\u001b[39m\u001b[38;5;124mIPython won\u001b[39m\u001b[38;5;124m'\u001b[39m\u001b[38;5;124mt let you open fd=\u001b[39m\u001b[38;5;132;01m{\u001b[39;00mfile\u001b[38;5;132;01m}\u001b[39;00m\u001b[38;5;124m by default \u001b[39m\u001b[38;5;124m\"\u001b[39m\n\u001b[1;32m    306\u001b[0m         \u001b[38;5;124m\"\u001b[39m\u001b[38;5;124mas it is likely to crash IPython. If you know what you are doing, \u001b[39m\u001b[38;5;124m\"\u001b[39m\n\u001b[1;32m    307\u001b[0m         \u001b[38;5;124m\"\u001b[39m\u001b[38;5;124myou can use builtins\u001b[39m\u001b[38;5;124m'\u001b[39m\u001b[38;5;124m open.\u001b[39m\u001b[38;5;124m\"\u001b[39m\n\u001b[1;32m    308\u001b[0m     )\n\u001b[0;32m--> 310\u001b[0m \u001b[38;5;28;01mreturn\u001b[39;00m \u001b[43mio_open\u001b[49m\u001b[43m(\u001b[49m\u001b[43mfile\u001b[49m\u001b[43m,\u001b[49m\u001b[43m \u001b[49m\u001b[38;5;241;43m*\u001b[39;49m\u001b[43margs\u001b[49m\u001b[43m,\u001b[49m\u001b[43m \u001b[49m\u001b[38;5;241;43m*\u001b[39;49m\u001b[38;5;241;43m*\u001b[39;49m\u001b[43mkwargs\u001b[49m\u001b[43m)\u001b[49m\n",
      "\u001b[0;31mFileNotFoundError\u001b[0m: [Errno 2] No such file or directory: '../data/yolo_all/test/label/img_emotion_test_data(분노).json'"
     ]
    }
   ],
   "source": [
    "# JSON 데이터 처리(train_set)\n",
    "output_directory = '../data/yolo_all/test/labels'\n",
    "test_path = '../data/yolo_all/test/image/'\n",
    "\n",
    "for emotion in emotion_mapping.keys():\n",
    "    json_list = load_json_file(f\"../data/yolo_all/test/label/img_emotion_test_data({emotion}).json\")\n",
    "    process_json_data_with_class(json_list, output_directory, test_path, test_file_names)"
   ]
  },
  {
   "cell_type": "code",
   "execution_count": 29,
   "metadata": {},
   "outputs": [
    {
     "data": {
      "text/plain": [
       "'/home/KDT-admin/work'"
      ]
     },
     "execution_count": 29,
     "metadata": {},
     "output_type": "execute_result"
    }
   ],
   "source": [
    "os.getcwd()"
   ]
  },
  {
   "cell_type": "code",
   "execution_count": 30,
   "metadata": {},
   "outputs": [
    {
     "ename": "AttributeError",
     "evalue": "module 'os' has no attribute 'pwd'",
     "output_type": "error",
     "traceback": [
      "\u001b[0;31m---------------------------------------------------------------------------\u001b[0m",
      "\u001b[0;31mAttributeError\u001b[0m                            Traceback (most recent call last)",
      "Cell \u001b[0;32mIn[30], line 1\u001b[0m\n\u001b[0;32m----> 1\u001b[0m \u001b[43mos\u001b[49m\u001b[38;5;241;43m.\u001b[39;49m\u001b[43mpwd\u001b[49m()\n",
      "\u001b[0;31mAttributeError\u001b[0m: module 'os' has no attribute 'pwd'"
     ]
    }
   ],
   "source": [
    "os.pwd()"
   ]
  },
  {
   "cell_type": "code",
   "execution_count": 69,
   "metadata": {},
   "outputs": [],
   "source": [
    "# JSON 데이터 처리(train_set)\n",
    "output_directory = '../data/yolo_all/train/labels'\n",
    "train_path = '../data/yolo_all/train/image'\n",
    "\n",
    "for emotion in emotion_mapping.keys():\n",
    "    json_list = load_json_file(f\"../data/yolo_all/train/label/img_emotion_training_data({emotion}).json\")\n",
    "    process_json_data_with_class(json_list, output_directory, train_path, train_file_names)"
   ]
  },
  {
   "cell_type": "markdown",
   "metadata": {},
   "source": [
    "### 다시 매핑시켜서 이미지를 yolov8_cls모델에 쓰기위해 이미지 이동"
   ]
  },
  {
   "cell_type": "code",
   "execution_count": 54,
   "metadata": {},
   "outputs": [],
   "source": [
    "flipped_emotion_mapping = {value: key for key, value in emotion_mapping.items()}"
   ]
  },
  {
   "cell_type": "code",
   "execution_count": 55,
   "metadata": {},
   "outputs": [
    {
     "data": {
      "text/plain": [
       "{0: '분노', 1: '불안', 2: '기쁨', 3: '중립', 4: '당황', 5: '슬픔', 6: '상처'}"
      ]
     },
     "execution_count": 55,
     "metadata": {},
     "output_type": "execute_result"
    }
   ],
   "source": [
    "flipped_emotion_mapping"
   ]
  },
  {
   "cell_type": "code",
   "execution_count": 56,
   "metadata": {},
   "outputs": [],
   "source": [
    "dict_list = ['anger', 'anxiety', 'happy', 'normal', 'embarrass', 'sad', 'pain']\n",
    "en_emotion_mapping = emotion_mapping.copy()\n",
    "\n",
    "for emo, en_emo in zip(emotion_mapping, dict_list):\n",
    "    en_emotion_mapping[emo] = en_emo"
   ]
  },
  {
   "cell_type": "code",
   "execution_count": 57,
   "metadata": {},
   "outputs": [
    {
     "data": {
      "text/plain": [
       "{'분노': 'anger',\n",
       " '불안': 'anxiety',\n",
       " '기쁨': 'happy',\n",
       " '중립': 'normal',\n",
       " '당황': 'embarrass',\n",
       " '슬픔': 'sad',\n",
       " '상처': 'pain'}"
      ]
     },
     "execution_count": 57,
     "metadata": {},
     "output_type": "execute_result"
    }
   ],
   "source": [
    "en_emotion_mapping"
   ]
  },
  {
   "cell_type": "code",
   "execution_count": 58,
   "metadata": {},
   "outputs": [],
   "source": [
    "# 폴더 경로\n",
    "folder_labels_path = '../data/yolo_all/val/image/'\n",
    "\n",
    "# 폴더 내 모든 파일 및 폴더 목록 가져오기\n",
    "val_txt_files = os.listdir(folder_path)\n",
    "\n",
    "# txt 파일만 선택\n",
    "txt_files = [file for file in val_txt_files if file.endswith('.txt')]\n",
    "txt_files_names = [file[:-4] for file in val_txt_files if file.endswith('.txt')]\n",
    "\n",
    "contents_dict = {}\n",
    "# txt 파일들을 불러와서 출력\n",
    "for txt_file, txt_file_name in zip(txt_files, txt_files_names):\n",
    "    txt_file_path = os.path.join(folder_labels_path, txt_file)\n",
    "\n",
    "    with open(txt_file_path, 'r') as one_txt_file:\n",
    "        contents = one_txt_file.read()\n",
    "        contents = contents.split(' ')\n",
    "        content = flipped_emotion_mapping[int(contents[0])]\n",
    "        # print(f\"파일명: {txt_file}\\n내용:\\n{contents}\\n\")\n",
    "        contents_dict[txt_file_name] = content"
   ]
  },
  {
   "cell_type": "code",
   "execution_count": 59,
   "metadata": {},
   "outputs": [
    {
     "data": {
      "text/plain": [
       "{}"
      ]
     },
     "execution_count": 59,
     "metadata": {},
     "output_type": "execute_result"
    }
   ],
   "source": [
    "contents_dict"
   ]
  },
  {
   "cell_type": "code",
   "execution_count": 43,
   "metadata": {},
   "outputs": [
    {
     "ename": "NameError",
     "evalue": "name 'contens_dict' is not defined",
     "output_type": "error",
     "traceback": [
      "\u001b[0;31m---------------------------------------------------------------------------\u001b[0m",
      "\u001b[0;31mNameError\u001b[0m                                 Traceback (most recent call last)",
      "Cell \u001b[0;32mIn[43], line 4\u001b[0m\n\u001b[1;32m      1\u001b[0m folder_image_path \u001b[38;5;241m=\u001b[39m \u001b[38;5;124m'\u001b[39m\u001b[38;5;124m../data/yolo_all/val/image/\u001b[39m\u001b[38;5;124m'\u001b[39m\n\u001b[1;32m      2\u001b[0m val_img_files \u001b[38;5;241m=\u001b[39m os\u001b[38;5;241m.\u001b[39mlistdir(folder_image_path)\n\u001b[0;32m----> 4\u001b[0m \u001b[38;5;28;01mfor\u001b[39;00m k,v \u001b[38;5;129;01min\u001b[39;00m \u001b[43mcontens_dict\u001b[49m:\n\u001b[1;32m      5\u001b[0m     \u001b[38;5;28;01mif\u001b[39;00m v \u001b[38;5;129;01min\u001b[39;00m k:\n\u001b[1;32m      6\u001b[0m         val_img_files\n",
      "\u001b[0;31mNameError\u001b[0m: name 'contens_dict' is not defined"
     ]
    }
   ],
   "source": [
    "folder_image_path = '../data/yolo_all/val/image/'\n",
    "val_img_files = os.listdir(folder_image_path)\n",
    "\n",
    "for k,v in contens_dict:\n",
    "    if v in k:\n",
    "        val_img_files"
   ]
  }
 ],
 "metadata": {
  "kernelspec": {
   "display_name": "Detection_P",
   "language": "python",
   "name": "python3"
  },
  "language_info": {
   "codemirror_mode": {
    "name": "ipython",
    "version": 3
   },
   "file_extension": ".py",
   "mimetype": "text/x-python",
   "name": "python",
   "nbconvert_exporter": "python",
   "pygments_lexer": "ipython3",
   "version": "3.10.13"
  }
 },
 "nbformat": 4,
 "nbformat_minor": 2
}
