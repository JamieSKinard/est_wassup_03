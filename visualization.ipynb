{
 "cells": [
  {
   "cell_type": "code",
   "execution_count": null,
   "metadata": {},
   "outputs": [],
   "source": [
    "import pandas as pd\n",
    "import pickle\n",
    "import matplotlib.pyplot as plt\n",
    "\n",
    "# .pkl 파일 열기\n",
    "with open('RepvggRepvgg_history_train.pkl', 'rb') as f:\n",
    "    data = pickle.load(f)\n",
    "\n",
    "data_cpu = [item.cpu().numpy() for item in data]\n",
    "# 데이터 시각화\n",
    "plt.plot(data_cpu)\n",
    "plt.xlabel('Epoch')\n",
    "plt.ylabel('Accuracy')\n",
    "plt.title('Training Accuracy')\n",
    "plt.show()"
   ]
  }
 ],
 "metadata": {
  "language_info": {
   "name": "python"
  }
 },
 "nbformat": 4,
 "nbformat_minor": 2
}
